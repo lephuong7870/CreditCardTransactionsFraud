{
 "cells": [
  {
   "cell_type": "code",
   "execution_count": 28,
   "metadata": {},
   "outputs": [],
   "source": [
    "import pandas as pd\n",
    "import numpy as np\n",
    "from cassandra.cluster import Cluster\n",
    "cluster = Cluster([\"127.0.0.1\"], port=\"9042\")\n",
    "session =   cluster.connect('creditcard')"
   ]
  },
  {
   "cell_type": "markdown",
   "metadata": {},
   "source": [
    "## Lấy dữ liệu từ Cassandra"
   ]
  },
  {
   "cell_type": "code",
   "execution_count": 29,
   "metadata": {},
   "outputs": [],
   "source": [
    "\n",
    "import pandas as pd\n",
    "import numpy as np\n",
    "\n",
    "\n",
    "import matplotlib.pyplot as plt\n",
    "import seaborn as sns"
   ]
  },
  {
   "cell_type": "code",
   "execution_count": 30,
   "metadata": {},
   "outputs": [],
   "source": [
    "stmt1 = \"SELECT * FROM non_fraud_transaction ;\"\n",
    "stmt2 = \"SELECT * FROM fraud_transaction ;\"\n",
    "stmt3 = \"SELECT * FROM customer ;\""
   ]
  },
  {
   "cell_type": "code",
   "execution_count": 31,
   "metadata": {},
   "outputs": [],
   "source": [
    "data = session.execute(stmt1)\n",
    "df_no = pd.DataFrame([ d for d in data])\n",
    "     "
   ]
  },
  {
   "cell_type": "code",
   "execution_count": 32,
   "metadata": {},
   "outputs": [
    {
     "data": {
      "text/plain": [
       "(401451, 11)"
      ]
     },
     "execution_count": 32,
     "metadata": {},
     "output_type": "execute_result"
    }
   ],
   "source": [
    "df_no.shape"
   ]
  },
  {
   "cell_type": "code",
   "execution_count": 33,
   "metadata": {},
   "outputs": [],
   "source": [
    "df_no = df_no.sample(n = 20000)"
   ]
  },
  {
   "cell_type": "code",
   "execution_count": 34,
   "metadata": {},
   "outputs": [],
   "source": [
    "data = session.execute(stmt2)\n",
    "df_yes = pd.DataFrame([ d for d in data])\n",
    "     "
   ]
  },
  {
   "cell_type": "code",
   "execution_count": 35,
   "metadata": {},
   "outputs": [
    {
     "data": {
      "text/plain": [
       "(1499, 11)"
      ]
     },
     "execution_count": 35,
     "metadata": {},
     "output_type": "execute_result"
    }
   ],
   "source": [
    "df_yes.shape"
   ]
  },
  {
   "cell_type": "code",
   "execution_count": 36,
   "metadata": {},
   "outputs": [],
   "source": [
    "data = session.execute(stmt3)\n",
    "df_customer = pd.DataFrame([ d for d in data])\n",
    "     "
   ]
  },
  {
   "cell_type": "code",
   "execution_count": 37,
   "metadata": {},
   "outputs": [],
   "source": [
    "df_all = pd.DataFrame(np.vstack((df_yes, df_no)), columns=df_yes.columns)"
   ]
  },
  {
   "cell_type": "code",
   "execution_count": 38,
   "metadata": {},
   "outputs": [
    {
     "data": {
      "text/html": [
       "<div>\n",
       "<style scoped>\n",
       "    .dataframe tbody tr th:only-of-type {\n",
       "        vertical-align: middle;\n",
       "    }\n",
       "\n",
       "    .dataframe tbody tr th {\n",
       "        vertical-align: top;\n",
       "    }\n",
       "\n",
       "    .dataframe thead th {\n",
       "        text-align: right;\n",
       "    }\n",
       "</style>\n",
       "<table border=\"1\" class=\"dataframe\">\n",
       "  <thead>\n",
       "    <tr style=\"text-align: right;\">\n",
       "      <th></th>\n",
       "      <th>cc_num</th>\n",
       "      <th>trans_time</th>\n",
       "      <th>age</th>\n",
       "      <th>amt</th>\n",
       "      <th>category</th>\n",
       "      <th>distance</th>\n",
       "      <th>is_fraud</th>\n",
       "      <th>merch_lat</th>\n",
       "      <th>merch_long</th>\n",
       "      <th>merchant</th>\n",
       "      <th>trans_num</th>\n",
       "    </tr>\n",
       "  </thead>\n",
       "  <tbody>\n",
       "    <tr>\n",
       "      <th>0</th>\n",
       "      <td>6511349151405438</td>\n",
       "      <td>2019-12-27</td>\n",
       "      <td>73</td>\n",
       "      <td>780.81</td>\n",
       "      <td>shopping_pos</td>\n",
       "      <td>0.440991</td>\n",
       "      <td>1.0</td>\n",
       "      <td>39.605795</td>\n",
       "      <td>-115.254874</td>\n",
       "      <td>fraud_Yost, Schamberger and Windler</td>\n",
       "      <td>1944259054c77cddcb9432bd9211ee68</td>\n",
       "    </tr>\n",
       "    <tr>\n",
       "      <th>1</th>\n",
       "      <td>6511349151405438</td>\n",
       "      <td>2019-12-26</td>\n",
       "      <td>73</td>\n",
       "      <td>355.27</td>\n",
       "      <td>grocery_pos</td>\n",
       "      <td>0.685475</td>\n",
       "      <td>1.0</td>\n",
       "      <td>39.80265</td>\n",
       "      <td>-115.02952</td>\n",
       "      <td>fraud_Rau and Sons</td>\n",
       "      <td>c85ac28478762467ef81204808666712</td>\n",
       "    </tr>\n",
       "    <tr>\n",
       "      <th>2</th>\n",
       "      <td>4208110975550360171</td>\n",
       "      <td>2020-03-15</td>\n",
       "      <td>38</td>\n",
       "      <td>1107.33</td>\n",
       "      <td>shopping_pos</td>\n",
       "      <td>1.249906</td>\n",
       "      <td>1.0</td>\n",
       "      <td>32.521879</td>\n",
       "      <td>-83.583698</td>\n",
       "      <td>fraud_Pouros-Conroy</td>\n",
       "      <td>fc1c0daa3e30873506750b76c4468a36</td>\n",
       "    </tr>\n",
       "    <tr>\n",
       "      <th>3</th>\n",
       "      <td>4208110975550360171</td>\n",
       "      <td>2020-03-14</td>\n",
       "      <td>38</td>\n",
       "      <td>356.49</td>\n",
       "      <td>grocery_pos</td>\n",
       "      <td>0.711085</td>\n",
       "      <td>1.0</td>\n",
       "      <td>31.320803</td>\n",
       "      <td>-83.104977</td>\n",
       "      <td>fraud_Moen, Reinger and Murphy</td>\n",
       "      <td>e00bf51b76dcdccc4ac6804f6c6f94e2</td>\n",
       "    </tr>\n",
       "  </tbody>\n",
       "</table>\n",
       "</div>"
      ],
      "text/plain": [
       "                cc_num trans_time age      amt      category  distance  \\\n",
       "0     6511349151405438 2019-12-27  73   780.81  shopping_pos  0.440991   \n",
       "1     6511349151405438 2019-12-26  73   355.27   grocery_pos  0.685475   \n",
       "2  4208110975550360171 2020-03-15  38  1107.33  shopping_pos  1.249906   \n",
       "3  4208110975550360171 2020-03-14  38   356.49   grocery_pos  0.711085   \n",
       "\n",
       "  is_fraud  merch_lat  merch_long                             merchant  \\\n",
       "0      1.0  39.605795 -115.254874  fraud_Yost, Schamberger and Windler   \n",
       "1      1.0   39.80265  -115.02952                   fraud_Rau and Sons   \n",
       "2      1.0  32.521879  -83.583698                  fraud_Pouros-Conroy   \n",
       "3      1.0  31.320803  -83.104977       fraud_Moen, Reinger and Murphy   \n",
       "\n",
       "                          trans_num  \n",
       "0  1944259054c77cddcb9432bd9211ee68  \n",
       "1  c85ac28478762467ef81204808666712  \n",
       "2  fc1c0daa3e30873506750b76c4468a36  \n",
       "3  e00bf51b76dcdccc4ac6804f6c6f94e2  "
      ]
     },
     "execution_count": 38,
     "metadata": {},
     "output_type": "execute_result"
    }
   ],
   "source": [
    "df_all.head(4)"
   ]
  },
  {
   "cell_type": "code",
   "execution_count": 39,
   "metadata": {},
   "outputs": [],
   "source": [
    "df = pd.merge(df_all , df_customer, how='left' , left_on= 'cc_num' , right_on = 'cc_num')"
   ]
  },
  {
   "cell_type": "code",
   "execution_count": 40,
   "metadata": {},
   "outputs": [
    {
     "data": {
      "text/html": [
       "<div>\n",
       "<style scoped>\n",
       "    .dataframe tbody tr th:only-of-type {\n",
       "        vertical-align: middle;\n",
       "    }\n",
       "\n",
       "    .dataframe tbody tr th {\n",
       "        vertical-align: top;\n",
       "    }\n",
       "\n",
       "    .dataframe thead th {\n",
       "        text-align: right;\n",
       "    }\n",
       "</style>\n",
       "<table border=\"1\" class=\"dataframe\">\n",
       "  <thead>\n",
       "    <tr style=\"text-align: right;\">\n",
       "      <th></th>\n",
       "      <th>cc_num</th>\n",
       "      <th>trans_time</th>\n",
       "      <th>age</th>\n",
       "      <th>amt</th>\n",
       "      <th>category</th>\n",
       "      <th>distance</th>\n",
       "      <th>is_fraud</th>\n",
       "      <th>merch_lat</th>\n",
       "      <th>merch_long</th>\n",
       "      <th>merchant</th>\n",
       "      <th>...</th>\n",
       "      <th>job</th>\n",
       "      <th>last</th>\n",
       "      <th>lat</th>\n",
       "      <th>long</th>\n",
       "      <th>max_amt</th>\n",
       "      <th>mean_amt</th>\n",
       "      <th>min_amt</th>\n",
       "      <th>state</th>\n",
       "      <th>street</th>\n",
       "      <th>zip</th>\n",
       "    </tr>\n",
       "  </thead>\n",
       "  <tbody>\n",
       "    <tr>\n",
       "      <th>0</th>\n",
       "      <td>6511349151405438</td>\n",
       "      <td>2019-12-27</td>\n",
       "      <td>73</td>\n",
       "      <td>780.81</td>\n",
       "      <td>shopping_pos</td>\n",
       "      <td>0.440991</td>\n",
       "      <td>1.0</td>\n",
       "      <td>39.605795</td>\n",
       "      <td>-115.254874</td>\n",
       "      <td>fraud_Yost, Schamberger and Windler</td>\n",
       "      <td>...</td>\n",
       "      <td>Interpreter</td>\n",
       "      <td>Nguyen</td>\n",
       "      <td>39.3426</td>\n",
       "      <td>-114.8859</td>\n",
       "      <td>2551.98</td>\n",
       "      <td>61.310324</td>\n",
       "      <td>1.01</td>\n",
       "      <td>NV</td>\n",
       "      <td>74835 Garner Point</td>\n",
       "      <td>89319</td>\n",
       "    </tr>\n",
       "    <tr>\n",
       "      <th>1</th>\n",
       "      <td>6511349151405438</td>\n",
       "      <td>2019-12-26</td>\n",
       "      <td>73</td>\n",
       "      <td>355.27</td>\n",
       "      <td>grocery_pos</td>\n",
       "      <td>0.685475</td>\n",
       "      <td>1.0</td>\n",
       "      <td>39.80265</td>\n",
       "      <td>-115.02952</td>\n",
       "      <td>fraud_Rau and Sons</td>\n",
       "      <td>...</td>\n",
       "      <td>Interpreter</td>\n",
       "      <td>Nguyen</td>\n",
       "      <td>39.3426</td>\n",
       "      <td>-114.8859</td>\n",
       "      <td>2551.98</td>\n",
       "      <td>61.310324</td>\n",
       "      <td>1.01</td>\n",
       "      <td>NV</td>\n",
       "      <td>74835 Garner Point</td>\n",
       "      <td>89319</td>\n",
       "    </tr>\n",
       "    <tr>\n",
       "      <th>2</th>\n",
       "      <td>4208110975550360171</td>\n",
       "      <td>2020-03-15</td>\n",
       "      <td>38</td>\n",
       "      <td>1107.33</td>\n",
       "      <td>shopping_pos</td>\n",
       "      <td>1.249906</td>\n",
       "      <td>1.0</td>\n",
       "      <td>32.521879</td>\n",
       "      <td>-83.583698</td>\n",
       "      <td>fraud_Pouros-Conroy</td>\n",
       "      <td>...</td>\n",
       "      <td>Audiological scientist</td>\n",
       "      <td>Bonilla</td>\n",
       "      <td>31.6143</td>\n",
       "      <td>-82.7243</td>\n",
       "      <td>1206.74</td>\n",
       "      <td>99.201684</td>\n",
       "      <td>26.70</td>\n",
       "      <td>GA</td>\n",
       "      <td>82073 Jessica Camp</td>\n",
       "      <td>31567</td>\n",
       "    </tr>\n",
       "    <tr>\n",
       "      <th>3</th>\n",
       "      <td>4208110975550360171</td>\n",
       "      <td>2020-03-14</td>\n",
       "      <td>38</td>\n",
       "      <td>356.49</td>\n",
       "      <td>grocery_pos</td>\n",
       "      <td>0.711085</td>\n",
       "      <td>1.0</td>\n",
       "      <td>31.320803</td>\n",
       "      <td>-83.104977</td>\n",
       "      <td>fraud_Moen, Reinger and Murphy</td>\n",
       "      <td>...</td>\n",
       "      <td>Audiological scientist</td>\n",
       "      <td>Bonilla</td>\n",
       "      <td>31.6143</td>\n",
       "      <td>-82.7243</td>\n",
       "      <td>1206.74</td>\n",
       "      <td>99.201684</td>\n",
       "      <td>26.70</td>\n",
       "      <td>GA</td>\n",
       "      <td>82073 Jessica Camp</td>\n",
       "      <td>31567</td>\n",
       "    </tr>\n",
       "  </tbody>\n",
       "</table>\n",
       "<p>4 rows × 25 columns</p>\n",
       "</div>"
      ],
      "text/plain": [
       "                cc_num trans_time age      amt      category  distance  \\\n",
       "0     6511349151405438 2019-12-27  73   780.81  shopping_pos  0.440991   \n",
       "1     6511349151405438 2019-12-26  73   355.27   grocery_pos  0.685475   \n",
       "2  4208110975550360171 2020-03-15  38  1107.33  shopping_pos  1.249906   \n",
       "3  4208110975550360171 2020-03-14  38   356.49   grocery_pos  0.711085   \n",
       "\n",
       "  is_fraud  merch_lat  merch_long                             merchant  ...  \\\n",
       "0      1.0  39.605795 -115.254874  fraud_Yost, Schamberger and Windler  ...   \n",
       "1      1.0   39.80265  -115.02952                   fraud_Rau and Sons  ...   \n",
       "2      1.0  32.521879  -83.583698                  fraud_Pouros-Conroy  ...   \n",
       "3      1.0  31.320803  -83.104977       fraud_Moen, Reinger and Murphy  ...   \n",
       "\n",
       "                      job     last      lat      long  max_amt   mean_amt  \\\n",
       "0             Interpreter   Nguyen  39.3426 -114.8859  2551.98  61.310324   \n",
       "1             Interpreter   Nguyen  39.3426 -114.8859  2551.98  61.310324   \n",
       "2  Audiological scientist  Bonilla  31.6143  -82.7243  1206.74  99.201684   \n",
       "3  Audiological scientist  Bonilla  31.6143  -82.7243  1206.74  99.201684   \n",
       "\n",
       "  min_amt  state              street    zip  \n",
       "0    1.01     NV  74835 Garner Point  89319  \n",
       "1    1.01     NV  74835 Garner Point  89319  \n",
       "2   26.70     GA  82073 Jessica Camp  31567  \n",
       "3   26.70     GA  82073 Jessica Camp  31567  \n",
       "\n",
       "[4 rows x 25 columns]"
      ]
     },
     "execution_count": 40,
     "metadata": {},
     "output_type": "execute_result"
    }
   ],
   "source": [
    "df.head(4)"
   ]
  },
  {
   "cell_type": "code",
   "execution_count": 41,
   "metadata": {},
   "outputs": [],
   "source": [
    "X = df[['amt' , 'age' , 'distance' , 'max_amt',\t'mean_amt'\t,'min_amt']]"
   ]
  },
  {
   "cell_type": "code",
   "execution_count": 42,
   "metadata": {},
   "outputs": [],
   "source": [
    "y = df['is_fraud'].astype('int')"
   ]
  },
  {
   "cell_type": "markdown",
   "metadata": {},
   "source": [
    "## Chia tập dữ liệu: Train and Test"
   ]
  },
  {
   "cell_type": "code",
   "execution_count": 43,
   "metadata": {},
   "outputs": [],
   "source": [
    "from sklearn.model_selection import train_test_split \n",
    "X_train, X_test, y_train, y_test  = train_test_split(X, y, test_size=0.3, stratify=y, random_state=17)"
   ]
  },
  {
   "cell_type": "markdown",
   "metadata": {},
   "source": [
    "## Lựa chọn Model "
   ]
  },
  {
   "cell_type": "code",
   "execution_count": 17,
   "metadata": {},
   "outputs": [
    {
     "name": "stderr",
     "output_type": "stream",
     "text": [
      "c:\\Users\\Admin\\AppData\\Local\\Programs\\Python\\Python310\\lib\\site-packages\\sklearn\\linear_model\\_logistic.py:458: ConvergenceWarning: lbfgs failed to converge (status=1):\n",
      "STOP: TOTAL NO. of ITERATIONS REACHED LIMIT.\n",
      "\n",
      "Increase the number of iterations (max_iter) or scale the data as shown in:\n",
      "    https://scikit-learn.org/stable/modules/preprocessing.html\n",
      "Please also refer to the documentation for alternative solver options:\n",
      "    https://scikit-learn.org/stable/modules/linear_model.html#logistic-regression\n",
      "  n_iter_i = _check_optimize_result(\n"
     ]
    },
    {
     "data": {
      "text/html": [
       "<style>#sk-container-id-1 {color: black;background-color: white;}#sk-container-id-1 pre{padding: 0;}#sk-container-id-1 div.sk-toggleable {background-color: white;}#sk-container-id-1 label.sk-toggleable__label {cursor: pointer;display: block;width: 100%;margin-bottom: 0;padding: 0.3em;box-sizing: border-box;text-align: center;}#sk-container-id-1 label.sk-toggleable__label-arrow:before {content: \"▸\";float: left;margin-right: 0.25em;color: #696969;}#sk-container-id-1 label.sk-toggleable__label-arrow:hover:before {color: black;}#sk-container-id-1 div.sk-estimator:hover label.sk-toggleable__label-arrow:before {color: black;}#sk-container-id-1 div.sk-toggleable__content {max-height: 0;max-width: 0;overflow: hidden;text-align: left;background-color: #f0f8ff;}#sk-container-id-1 div.sk-toggleable__content pre {margin: 0.2em;color: black;border-radius: 0.25em;background-color: #f0f8ff;}#sk-container-id-1 input.sk-toggleable__control:checked~div.sk-toggleable__content {max-height: 200px;max-width: 100%;overflow: auto;}#sk-container-id-1 input.sk-toggleable__control:checked~label.sk-toggleable__label-arrow:before {content: \"▾\";}#sk-container-id-1 div.sk-estimator input.sk-toggleable__control:checked~label.sk-toggleable__label {background-color: #d4ebff;}#sk-container-id-1 div.sk-label input.sk-toggleable__control:checked~label.sk-toggleable__label {background-color: #d4ebff;}#sk-container-id-1 input.sk-hidden--visually {border: 0;clip: rect(1px 1px 1px 1px);clip: rect(1px, 1px, 1px, 1px);height: 1px;margin: -1px;overflow: hidden;padding: 0;position: absolute;width: 1px;}#sk-container-id-1 div.sk-estimator {font-family: monospace;background-color: #f0f8ff;border: 1px dotted black;border-radius: 0.25em;box-sizing: border-box;margin-bottom: 0.5em;}#sk-container-id-1 div.sk-estimator:hover {background-color: #d4ebff;}#sk-container-id-1 div.sk-parallel-item::after {content: \"\";width: 100%;border-bottom: 1px solid gray;flex-grow: 1;}#sk-container-id-1 div.sk-label:hover label.sk-toggleable__label {background-color: #d4ebff;}#sk-container-id-1 div.sk-serial::before {content: \"\";position: absolute;border-left: 1px solid gray;box-sizing: border-box;top: 0;bottom: 0;left: 50%;z-index: 0;}#sk-container-id-1 div.sk-serial {display: flex;flex-direction: column;align-items: center;background-color: white;padding-right: 0.2em;padding-left: 0.2em;position: relative;}#sk-container-id-1 div.sk-item {position: relative;z-index: 1;}#sk-container-id-1 div.sk-parallel {display: flex;align-items: stretch;justify-content: center;background-color: white;position: relative;}#sk-container-id-1 div.sk-item::before, #sk-container-id-1 div.sk-parallel-item::before {content: \"\";position: absolute;border-left: 1px solid gray;box-sizing: border-box;top: 0;bottom: 0;left: 50%;z-index: -1;}#sk-container-id-1 div.sk-parallel-item {display: flex;flex-direction: column;z-index: 1;position: relative;background-color: white;}#sk-container-id-1 div.sk-parallel-item:first-child::after {align-self: flex-end;width: 50%;}#sk-container-id-1 div.sk-parallel-item:last-child::after {align-self: flex-start;width: 50%;}#sk-container-id-1 div.sk-parallel-item:only-child::after {width: 0;}#sk-container-id-1 div.sk-dashed-wrapped {border: 1px dashed gray;margin: 0 0.4em 0.5em 0.4em;box-sizing: border-box;padding-bottom: 0.4em;background-color: white;}#sk-container-id-1 div.sk-label label {font-family: monospace;font-weight: bold;display: inline-block;line-height: 1.2em;}#sk-container-id-1 div.sk-label-container {text-align: center;}#sk-container-id-1 div.sk-container {/* jupyter's `normalize.less` sets `[hidden] { display: none; }` but bootstrap.min.css set `[hidden] { display: none !important; }` so we also need the `!important` here to be able to override the default hidden behavior on the sphinx rendered scikit-learn.org. See: https://github.com/scikit-learn/scikit-learn/issues/21755 */display: inline-block !important;position: relative;}#sk-container-id-1 div.sk-text-repr-fallback {display: none;}</style><div id=\"sk-container-id-1\" class=\"sk-top-container\"><div class=\"sk-text-repr-fallback\"><pre>RandomForestClassifier(random_state=17)</pre><b>In a Jupyter environment, please rerun this cell to show the HTML representation or trust the notebook. <br />On GitHub, the HTML representation is unable to render, please try loading this page with nbviewer.org.</b></div><div class=\"sk-container\" hidden><div class=\"sk-item\"><div class=\"sk-estimator sk-toggleable\"><input class=\"sk-toggleable__control sk-hidden--visually\" id=\"sk-estimator-id-1\" type=\"checkbox\" checked><label for=\"sk-estimator-id-1\" class=\"sk-toggleable__label sk-toggleable__label-arrow\">RandomForestClassifier</label><div class=\"sk-toggleable__content\"><pre>RandomForestClassifier(random_state=17)</pre></div></div></div></div></div>"
      ],
      "text/plain": [
       "RandomForestClassifier(random_state=17)"
      ]
     },
     "execution_count": 17,
     "metadata": {},
     "output_type": "execute_result"
    }
   ],
   "source": [
    "from sklearn.tree import DecisionTreeClassifier\n",
    "dt= DecisionTreeClassifier(random_state=2,max_depth=4)\n",
    "dt.fit(X_train, y_train)\n",
    "\n",
    "from sklearn.linear_model import LogisticRegression\n",
    "lg=LogisticRegression()\n",
    "lg.fit(X_train,y_train)\n",
    "\n",
    "from sklearn.ensemble import RandomForestClassifier\n",
    "rf_clf = RandomForestClassifier(random_state=17)\n",
    "rf_clf.fit(X_train, y_train) \n"
   ]
  },
  {
   "cell_type": "code",
   "execution_count": 18,
   "metadata": {},
   "outputs": [],
   "source": [
    "dt_pre = dt.predict(X_test)\n",
    "lg_pre = lg.predict(X_test)\n",
    "rf_pre = rf_clf.predict(X_test)"
   ]
  },
  {
   "cell_type": "code",
   "execution_count": 19,
   "metadata": {},
   "outputs": [
    {
     "name": "stdout",
     "output_type": "stream",
     "text": [
      "Test set RMSE of DecisionTree: 0.143\n",
      "test acc : 0.9796899224806201\n",
      "Test F1 : 0.8485549132947977\n"
     ]
    }
   ],
   "source": [
    "from sklearn.metrics import mean_squared_error as MSE\n",
    "from sklearn.metrics import accuracy_score\n",
    "from sklearn.metrics import f1_score\n",
    "\n",
    "mse_test = MSE(y_test,dt_pre)\n",
    "\n",
    "\n",
    "rmse_test = mse_test**0.5\n",
    "\n",
    "\n",
    "print('Test set RMSE of DecisionTree: {:.3f}'.format(rmse_test))\n",
    "print(\"test acc : {}\".format(accuracy_score(y_test,dt_pre)))\n",
    "print(\"Test F1 : {}\".format(f1_score(y_test,dt_pre)))"
   ]
  },
  {
   "cell_type": "code",
   "execution_count": 20,
   "metadata": {},
   "outputs": [
    {
     "name": "stdout",
     "output_type": "stream",
     "text": [
      "Test set RMSE of LogisticRegression: 0.159\n",
      "test acc : 0.9747286821705426\n",
      "Test F1 : 0.8080094228504122\n"
     ]
    }
   ],
   "source": [
    "mse_test = MSE(y_test,lg_pre)\n",
    "rmse_test = mse_test**0.5\n",
    "\n",
    "\n",
    "print('Test set RMSE of LogisticRegression: {:.3f}'.format(rmse_test))\n",
    "print(\"test acc : {}\".format(accuracy_score(y_test,lg_pre)))\n",
    "print(\"Test F1 : {}\".format(f1_score(y_test,lg_pre)))"
   ]
  },
  {
   "cell_type": "code",
   "execution_count": 21,
   "metadata": {},
   "outputs": [
    {
     "name": "stdout",
     "output_type": "stream",
     "text": [
      "Test set RMSE of RandomForest: 0.144\n",
      "test acc : 0.9793798449612403\n",
      "Test F1 : 0.846242774566474\n"
     ]
    }
   ],
   "source": [
    "from sklearn.metrics import mean_squared_error as MSE\n",
    "mse_test = MSE(y_test,rf_pre)\n",
    "rmse_test = mse_test**0.5\n",
    "\n",
    "\n",
    "print('Test set RMSE of RandomForest: {:.3f}'.format(rmse_test))\n",
    "print(\"test acc : {}\".format(accuracy_score(y_test,rf_pre)))\n",
    "print(\"Test F1 : {}\".format(f1_score(y_test,rf_pre)))\n"
   ]
  },
  {
   "cell_type": "markdown",
   "metadata": {},
   "source": [
    "### Lựa chọn Model có kết quả F1-score cao nhất\n",
    " => Model Random Forest"
   ]
  },
  {
   "cell_type": "code",
   "execution_count": 22,
   "metadata": {},
   "outputs": [],
   "source": [
    "\n",
    "from sklearn.ensemble import RandomForestClassifier\n",
    "from sklearn.model_selection import GridSearchCV\n",
    "from sklearn.model_selection import StratifiedKFold \n",
    "skf = StratifiedKFold(n_splits = 5)\n",
    "\n",
    "params = {'max_features': [1, 3, 5] ,\n",
    "          'max_depth' : [1, 3, 5, 7, 9],\n",
    "          'random_state': [0, 5, 7, 10, 13, 15,17,20]}\n",
    "\n",
    "rf =  RandomForestClassifier(random_state=17)\n",
    "rf_grid = GridSearchCV(rf , params, cv=skf, scoring='accuracy')\n",
    "rf_grid.fit(X_train, y_train) \n",
    "\n",
    "y_pred = rf_grid.predict(X_test)\n",
    "scores = accuracy_score(y_pred, y_test)\n",
    "\n"
   ]
  },
  {
   "cell_type": "code",
   "execution_count": 23,
   "metadata": {},
   "outputs": [
    {
     "data": {
      "text/plain": [
       "({'max_depth': 7, 'max_features': 5, 'random_state': 13}, 0.9808624182822518)"
      ]
     },
     "execution_count": 23,
     "metadata": {},
     "output_type": "execute_result"
    }
   ],
   "source": [
    "rf_grid.best_params_, rf_grid.best_score_"
   ]
  },
  {
   "cell_type": "code",
   "execution_count": 24,
   "metadata": {},
   "outputs": [
    {
     "data": {
      "text/html": [
       "<style>#sk-container-id-2 {color: black;background-color: white;}#sk-container-id-2 pre{padding: 0;}#sk-container-id-2 div.sk-toggleable {background-color: white;}#sk-container-id-2 label.sk-toggleable__label {cursor: pointer;display: block;width: 100%;margin-bottom: 0;padding: 0.3em;box-sizing: border-box;text-align: center;}#sk-container-id-2 label.sk-toggleable__label-arrow:before {content: \"▸\";float: left;margin-right: 0.25em;color: #696969;}#sk-container-id-2 label.sk-toggleable__label-arrow:hover:before {color: black;}#sk-container-id-2 div.sk-estimator:hover label.sk-toggleable__label-arrow:before {color: black;}#sk-container-id-2 div.sk-toggleable__content {max-height: 0;max-width: 0;overflow: hidden;text-align: left;background-color: #f0f8ff;}#sk-container-id-2 div.sk-toggleable__content pre {margin: 0.2em;color: black;border-radius: 0.25em;background-color: #f0f8ff;}#sk-container-id-2 input.sk-toggleable__control:checked~div.sk-toggleable__content {max-height: 200px;max-width: 100%;overflow: auto;}#sk-container-id-2 input.sk-toggleable__control:checked~label.sk-toggleable__label-arrow:before {content: \"▾\";}#sk-container-id-2 div.sk-estimator input.sk-toggleable__control:checked~label.sk-toggleable__label {background-color: #d4ebff;}#sk-container-id-2 div.sk-label input.sk-toggleable__control:checked~label.sk-toggleable__label {background-color: #d4ebff;}#sk-container-id-2 input.sk-hidden--visually {border: 0;clip: rect(1px 1px 1px 1px);clip: rect(1px, 1px, 1px, 1px);height: 1px;margin: -1px;overflow: hidden;padding: 0;position: absolute;width: 1px;}#sk-container-id-2 div.sk-estimator {font-family: monospace;background-color: #f0f8ff;border: 1px dotted black;border-radius: 0.25em;box-sizing: border-box;margin-bottom: 0.5em;}#sk-container-id-2 div.sk-estimator:hover {background-color: #d4ebff;}#sk-container-id-2 div.sk-parallel-item::after {content: \"\";width: 100%;border-bottom: 1px solid gray;flex-grow: 1;}#sk-container-id-2 div.sk-label:hover label.sk-toggleable__label {background-color: #d4ebff;}#sk-container-id-2 div.sk-serial::before {content: \"\";position: absolute;border-left: 1px solid gray;box-sizing: border-box;top: 0;bottom: 0;left: 50%;z-index: 0;}#sk-container-id-2 div.sk-serial {display: flex;flex-direction: column;align-items: center;background-color: white;padding-right: 0.2em;padding-left: 0.2em;position: relative;}#sk-container-id-2 div.sk-item {position: relative;z-index: 1;}#sk-container-id-2 div.sk-parallel {display: flex;align-items: stretch;justify-content: center;background-color: white;position: relative;}#sk-container-id-2 div.sk-item::before, #sk-container-id-2 div.sk-parallel-item::before {content: \"\";position: absolute;border-left: 1px solid gray;box-sizing: border-box;top: 0;bottom: 0;left: 50%;z-index: -1;}#sk-container-id-2 div.sk-parallel-item {display: flex;flex-direction: column;z-index: 1;position: relative;background-color: white;}#sk-container-id-2 div.sk-parallel-item:first-child::after {align-self: flex-end;width: 50%;}#sk-container-id-2 div.sk-parallel-item:last-child::after {align-self: flex-start;width: 50%;}#sk-container-id-2 div.sk-parallel-item:only-child::after {width: 0;}#sk-container-id-2 div.sk-dashed-wrapped {border: 1px dashed gray;margin: 0 0.4em 0.5em 0.4em;box-sizing: border-box;padding-bottom: 0.4em;background-color: white;}#sk-container-id-2 div.sk-label label {font-family: monospace;font-weight: bold;display: inline-block;line-height: 1.2em;}#sk-container-id-2 div.sk-label-container {text-align: center;}#sk-container-id-2 div.sk-container {/* jupyter's `normalize.less` sets `[hidden] { display: none; }` but bootstrap.min.css set `[hidden] { display: none !important; }` so we also need the `!important` here to be able to override the default hidden behavior on the sphinx rendered scikit-learn.org. See: https://github.com/scikit-learn/scikit-learn/issues/21755 */display: inline-block !important;position: relative;}#sk-container-id-2 div.sk-text-repr-fallback {display: none;}</style><div id=\"sk-container-id-2\" class=\"sk-top-container\"><div class=\"sk-text-repr-fallback\"><pre>RandomForestClassifier(max_depth=7, max_features=5, random_state=13)</pre><b>In a Jupyter environment, please rerun this cell to show the HTML representation or trust the notebook. <br />On GitHub, the HTML representation is unable to render, please try loading this page with nbviewer.org.</b></div><div class=\"sk-container\" hidden><div class=\"sk-item\"><div class=\"sk-estimator sk-toggleable\"><input class=\"sk-toggleable__control sk-hidden--visually\" id=\"sk-estimator-id-2\" type=\"checkbox\" checked><label for=\"sk-estimator-id-2\" class=\"sk-toggleable__label sk-toggleable__label-arrow\">RandomForestClassifier</label><div class=\"sk-toggleable__content\"><pre>RandomForestClassifier(max_depth=7, max_features=5, random_state=13)</pre></div></div></div></div></div>"
      ],
      "text/plain": [
       "RandomForestClassifier(max_depth=7, max_features=5, random_state=13)"
      ]
     },
     "execution_count": 24,
     "metadata": {},
     "output_type": "execute_result"
    }
   ],
   "source": [
    "from sklearn.ensemble import RandomForestClassifier\n",
    "final = RandomForestClassifier(random_state=13, max_depth = 7,max_features=5 )\n",
    "final.fit(X_train, y_train) "
   ]
  },
  {
   "cell_type": "code",
   "execution_count": 25,
   "metadata": {},
   "outputs": [
    {
     "name": "stdout",
     "output_type": "stream",
     "text": [
      "              precision    recall  f1-score   support\n",
      "\n",
      "           0       0.99      0.99      0.99      6000\n",
      "           1       0.89      0.82      0.85       450\n",
      "\n",
      "    accuracy                           0.98      6450\n",
      "   macro avg       0.94      0.90      0.92      6450\n",
      "weighted avg       0.98      0.98      0.98      6450\n",
      "\n"
     ]
    }
   ],
   "source": [
    "from sklearn.metrics import  classification_report\n",
    "print(classification_report(y_test, final.predict(X_test)))\n",
    "\n"
   ]
  },
  {
   "cell_type": "code",
   "execution_count": 26,
   "metadata": {},
   "outputs": [
    {
     "data": {
      "text/html": [
       "<div>\n",
       "<style scoped>\n",
       "    .dataframe tbody tr th:only-of-type {\n",
       "        vertical-align: middle;\n",
       "    }\n",
       "\n",
       "    .dataframe tbody tr th {\n",
       "        vertical-align: top;\n",
       "    }\n",
       "\n",
       "    .dataframe thead th {\n",
       "        text-align: right;\n",
       "    }\n",
       "</style>\n",
       "<table border=\"1\" class=\"dataframe\">\n",
       "  <thead>\n",
       "    <tr style=\"text-align: right;\">\n",
       "      <th></th>\n",
       "      <th>feat</th>\n",
       "      <th>coef</th>\n",
       "    </tr>\n",
       "  </thead>\n",
       "  <tbody>\n",
       "    <tr>\n",
       "      <th>0</th>\n",
       "      <td>amt</td>\n",
       "      <td>0.904856</td>\n",
       "    </tr>\n",
       "    <tr>\n",
       "      <th>4</th>\n",
       "      <td>mean_amt</td>\n",
       "      <td>0.043964</td>\n",
       "    </tr>\n",
       "    <tr>\n",
       "      <th>2</th>\n",
       "      <td>distance</td>\n",
       "      <td>0.017374</td>\n",
       "    </tr>\n",
       "    <tr>\n",
       "      <th>5</th>\n",
       "      <td>min_amt</td>\n",
       "      <td>0.012403</td>\n",
       "    </tr>\n",
       "    <tr>\n",
       "      <th>3</th>\n",
       "      <td>max_amt</td>\n",
       "      <td>0.011160</td>\n",
       "    </tr>\n",
       "  </tbody>\n",
       "</table>\n",
       "</div>"
      ],
      "text/plain": [
       "       feat      coef\n",
       "0       amt  0.904856\n",
       "4  mean_amt  0.043964\n",
       "2  distance  0.017374\n",
       "5   min_amt  0.012403\n",
       "3   max_amt  0.011160"
      ]
     },
     "execution_count": 26,
     "metadata": {},
     "output_type": "execute_result"
    }
   ],
   "source": [
    "pd.DataFrame({'feat': X.columns,\n",
    "              'coef': np.abs(final.feature_importances_).flatten().tolist()}).\\\n",
    "                                        sort_values(by='coef', ascending=False).head()"
   ]
  },
  {
   "cell_type": "markdown",
   "metadata": {},
   "source": [
    "## Lưu Model"
   ]
  },
  {
   "cell_type": "code",
   "execution_count": 27,
   "metadata": {},
   "outputs": [
    {
     "data": {
      "text/plain": [
       "['D:/demolambda/flask\\\\model.pkl']"
      ]
     },
     "execution_count": 27,
     "metadata": {},
     "output_type": "execute_result"
    }
   ],
   "source": [
    "dir = \"D:/demolambda/flask\"\n",
    "import joblib\n",
    "import os\n",
    "joblib.dump(final , os.path.join(dir, 'model.pkl'))"
   ]
  }
 ],
 "metadata": {
  "kernelspec": {
   "display_name": "Python 3",
   "language": "python",
   "name": "python3"
  },
  "language_info": {
   "codemirror_mode": {
    "name": "ipython",
    "version": 3
   },
   "file_extension": ".py",
   "mimetype": "text/x-python",
   "name": "python",
   "nbconvert_exporter": "python",
   "pygments_lexer": "ipython3",
   "version": "3.10.6"
  },
  "orig_nbformat": 4
 },
 "nbformat": 4,
 "nbformat_minor": 2
}
